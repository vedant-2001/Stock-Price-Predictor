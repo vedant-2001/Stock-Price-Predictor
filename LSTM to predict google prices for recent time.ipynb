{
 "cells": [
  {
   "cell_type": "code",
   "execution_count": null,
   "metadata": {},
   "outputs": [],
   "source": [
    "#LSTM RNN to predict price of alphabet using data of 5 years\n"
   ]
  },
  {
   "cell_type": "code",
   "execution_count": 1,
   "metadata": {},
   "outputs": [],
   "source": [
    "import pandas as pd\n",
    "import numpy as np\n",
    "import seaborn as sns\n",
    "import warnings\n",
    "warnings.filterwarnings('ignore')\n",
    "import datetime\n",
    "import matplotlib.pyplot as plt"
   ]
  },
  {
   "cell_type": "code",
   "execution_count": 2,
   "metadata": {},
   "outputs": [],
   "source": [
    "import pandas_datareader.data as web"
   ]
  },
  {
   "cell_type": "code",
   "execution_count": 3,
   "metadata": {},
   "outputs": [],
   "source": [
    "start = datetime.datetime(2015, 1, 1)\n",
    "end = datetime.datetime.now()"
   ]
  },
  {
   "cell_type": "code",
   "execution_count": 4,
   "metadata": {},
   "outputs": [],
   "source": [
    "df = web.DataReader(\"GOOGL\", 'yahoo', start, end)"
   ]
  },
  {
   "cell_type": "code",
   "execution_count": 5,
   "metadata": {},
   "outputs": [],
   "source": [
    "df.reset_index(inplace = True)"
   ]
  },
  {
   "cell_type": "code",
   "execution_count": 6,
   "metadata": {},
   "outputs": [
    {
     "data": {
      "text/plain": [
       "1526"
      ]
     },
     "execution_count": 6,
     "metadata": {},
     "output_type": "execute_result"
    }
   ],
   "source": [
    "len(df)"
   ]
  },
  {
   "cell_type": "code",
   "execution_count": 7,
   "metadata": {},
   "outputs": [],
   "source": [
    "train_data = df.iloc[:1226]\n",
    "test_data= df.iloc[1226:-1]"
   ]
  },
  {
   "cell_type": "code",
   "execution_count": 8,
   "metadata": {},
   "outputs": [
    {
     "data": {
      "text/html": [
       "<div>\n",
       "<style scoped>\n",
       "    .dataframe tbody tr th:only-of-type {\n",
       "        vertical-align: middle;\n",
       "    }\n",
       "\n",
       "    .dataframe tbody tr th {\n",
       "        vertical-align: top;\n",
       "    }\n",
       "\n",
       "    .dataframe thead th {\n",
       "        text-align: right;\n",
       "    }\n",
       "</style>\n",
       "<table border=\"1\" class=\"dataframe\">\n",
       "  <thead>\n",
       "    <tr style=\"text-align: right;\">\n",
       "      <th></th>\n",
       "      <th>Date</th>\n",
       "      <th>High</th>\n",
       "      <th>Low</th>\n",
       "      <th>Open</th>\n",
       "      <th>Close</th>\n",
       "      <th>Volume</th>\n",
       "      <th>Adj Close</th>\n",
       "    </tr>\n",
       "  </thead>\n",
       "  <tbody>\n",
       "    <tr>\n",
       "      <th>0</th>\n",
       "      <td>2014-12-31</td>\n",
       "      <td>538.400024</td>\n",
       "      <td>530.200012</td>\n",
       "      <td>537.739990</td>\n",
       "      <td>530.659973</td>\n",
       "      <td>1232400</td>\n",
       "      <td>530.659973</td>\n",
       "    </tr>\n",
       "    <tr>\n",
       "      <th>1</th>\n",
       "      <td>2015-01-02</td>\n",
       "      <td>535.799988</td>\n",
       "      <td>527.880005</td>\n",
       "      <td>532.599976</td>\n",
       "      <td>529.549988</td>\n",
       "      <td>1324000</td>\n",
       "      <td>529.549988</td>\n",
       "    </tr>\n",
       "    <tr>\n",
       "      <th>2</th>\n",
       "      <td>2015-01-05</td>\n",
       "      <td>527.989990</td>\n",
       "      <td>517.750000</td>\n",
       "      <td>527.150024</td>\n",
       "      <td>519.460022</td>\n",
       "      <td>2059100</td>\n",
       "      <td>519.460022</td>\n",
       "    </tr>\n",
       "    <tr>\n",
       "      <th>3</th>\n",
       "      <td>2015-01-06</td>\n",
       "      <td>521.210022</td>\n",
       "      <td>505.549988</td>\n",
       "      <td>520.500000</td>\n",
       "      <td>506.640015</td>\n",
       "      <td>2722800</td>\n",
       "      <td>506.640015</td>\n",
       "    </tr>\n",
       "    <tr>\n",
       "      <th>4</th>\n",
       "      <td>2015-01-07</td>\n",
       "      <td>511.489990</td>\n",
       "      <td>503.649994</td>\n",
       "      <td>510.950012</td>\n",
       "      <td>505.149994</td>\n",
       "      <td>2345900</td>\n",
       "      <td>505.149994</td>\n",
       "    </tr>\n",
       "    <tr>\n",
       "      <th>...</th>\n",
       "      <td>...</td>\n",
       "      <td>...</td>\n",
       "      <td>...</td>\n",
       "      <td>...</td>\n",
       "      <td>...</td>\n",
       "      <td>...</td>\n",
       "      <td>...</td>\n",
       "    </tr>\n",
       "    <tr>\n",
       "      <th>1221</th>\n",
       "      <td>2019-11-06</td>\n",
       "      <td>1292.989990</td>\n",
       "      <td>1282.270020</td>\n",
       "      <td>1290.089966</td>\n",
       "      <td>1291.010010</td>\n",
       "      <td>1231300</td>\n",
       "      <td>1291.010010</td>\n",
       "    </tr>\n",
       "    <tr>\n",
       "      <th>1222</th>\n",
       "      <td>2019-11-07</td>\n",
       "      <td>1322.650024</td>\n",
       "      <td>1293.750000</td>\n",
       "      <td>1294.280029</td>\n",
       "      <td>1306.939941</td>\n",
       "      <td>2257000</td>\n",
       "      <td>1306.939941</td>\n",
       "    </tr>\n",
       "    <tr>\n",
       "      <th>1223</th>\n",
       "      <td>2019-11-08</td>\n",
       "      <td>1317.109985</td>\n",
       "      <td>1301.520020</td>\n",
       "      <td>1301.520020</td>\n",
       "      <td>1309.000000</td>\n",
       "      <td>1519600</td>\n",
       "      <td>1309.000000</td>\n",
       "    </tr>\n",
       "    <tr>\n",
       "      <th>1224</th>\n",
       "      <td>2019-11-11</td>\n",
       "      <td>1304.900024</td>\n",
       "      <td>1295.869995</td>\n",
       "      <td>1304.000000</td>\n",
       "      <td>1298.280029</td>\n",
       "      <td>861700</td>\n",
       "      <td>1298.280029</td>\n",
       "    </tr>\n",
       "    <tr>\n",
       "      <th>1225</th>\n",
       "      <td>2019-11-12</td>\n",
       "      <td>1309.349976</td>\n",
       "      <td>1294.239990</td>\n",
       "      <td>1298.569946</td>\n",
       "      <td>1297.209961</td>\n",
       "      <td>1442600</td>\n",
       "      <td>1297.209961</td>\n",
       "    </tr>\n",
       "  </tbody>\n",
       "</table>\n",
       "<p>1226 rows × 7 columns</p>\n",
       "</div>"
      ],
      "text/plain": [
       "           Date         High          Low         Open        Close   Volume  \\\n",
       "0    2014-12-31   538.400024   530.200012   537.739990   530.659973  1232400   \n",
       "1    2015-01-02   535.799988   527.880005   532.599976   529.549988  1324000   \n",
       "2    2015-01-05   527.989990   517.750000   527.150024   519.460022  2059100   \n",
       "3    2015-01-06   521.210022   505.549988   520.500000   506.640015  2722800   \n",
       "4    2015-01-07   511.489990   503.649994   510.950012   505.149994  2345900   \n",
       "...         ...          ...          ...          ...          ...      ...   \n",
       "1221 2019-11-06  1292.989990  1282.270020  1290.089966  1291.010010  1231300   \n",
       "1222 2019-11-07  1322.650024  1293.750000  1294.280029  1306.939941  2257000   \n",
       "1223 2019-11-08  1317.109985  1301.520020  1301.520020  1309.000000  1519600   \n",
       "1224 2019-11-11  1304.900024  1295.869995  1304.000000  1298.280029   861700   \n",
       "1225 2019-11-12  1309.349976  1294.239990  1298.569946  1297.209961  1442600   \n",
       "\n",
       "        Adj Close  \n",
       "0      530.659973  \n",
       "1      529.549988  \n",
       "2      519.460022  \n",
       "3      506.640015  \n",
       "4      505.149994  \n",
       "...           ...  \n",
       "1221  1291.010010  \n",
       "1222  1306.939941  \n",
       "1223  1309.000000  \n",
       "1224  1298.280029  \n",
       "1225  1297.209961  \n",
       "\n",
       "[1226 rows x 7 columns]"
      ]
     },
     "execution_count": 8,
     "metadata": {},
     "output_type": "execute_result"
    }
   ],
   "source": [
    "train_data"
   ]
  },
  {
   "cell_type": "code",
   "execution_count": 9,
   "metadata": {},
   "outputs": [
    {
     "data": {
      "image/png": "[encoded data removed]",
      "text/plain": [
       "<Figure size 432x288 with 1 Axes>"
      ]
     },
     "metadata": {
      "needs_background": "light"
     },
     "output_type": "display_data"
    }
   ],
   "source": [
    "plt.plot(train_data['Date'], train_data['Open'])\n",
    "plt.show()"
   ]
  },
  {
   "cell_type": "code",
   "execution_count": 10,
   "metadata": {},
   "outputs": [
    {
     "name": "stdout",
     "output_type": "stream",
     "text": [
      "<class 'numpy.ndarray'>\n"
     ]
    }
   ],
   "source": [
    "#get open prices from train data\n",
    "train_set = train_data.iloc[:, 3].values\n",
    "print(type(train_set))"
   ]
  },
  {
   "cell_type": "code",
   "execution_count": 11,
   "metadata": {},
   "outputs": [],
   "source": [
    "train_set = train_set.reshape(1226,1)"
   ]
  },
  {
   "cell_type": "code",
   "execution_count": 12,
   "metadata": {},
   "outputs": [
    {
     "name": "stdout",
     "output_type": "stream",
     "text": [
      "[[0.04784035]\n",
      " [0.04145333]\n",
      " [0.03468119]\n",
      " ...\n",
      " [0.99691836]\n",
      " [1.        ]\n",
      " [0.99325258]]\n"
     ]
    }
   ],
   "source": [
    "#scaling of data imp for neural networks\n",
    "#scaling of train open prices\n",
    "from sklearn.preprocessing import MinMaxScaler\n",
    "scaler = MinMaxScaler(feature_range = (0, 1))\n",
    "scaled_data = scaler.fit_transform(train_set)\n",
    "print(scaled_data)"
   ]
  },
  {
   "cell_type": "code",
   "execution_count": 15,
   "metadata": {},
   "outputs": [
    {
     "data": {
      "text/plain": [
       "array([[0.04784035, 0.04145333, 0.03468119, ..., 0.09733339, 0.08127893,\n",
       "        0.07777477],\n",
       "       [0.04145333, 0.03468119, 0.02641783, ..., 0.08127893, 0.07777477,\n",
       "        0.07581143],\n",
       "       [0.03468119, 0.02641783, 0.01455095, ..., 0.07777477, 0.07581143,\n",
       "        0.07294102],\n",
       "       ...,\n",
       "       [0.83153991, 0.8468985 , 0.86061678, ..., 0.98409458, 0.9827153 ,\n",
       "        0.9879219 ],\n",
       "       [0.8468985 , 0.86061678, 0.86499078, ..., 0.9827153 , 0.9879219 ,\n",
       "        0.99691836],\n",
       "       [0.86061678, 0.86499078, 0.86557476, ..., 0.9879219 , 0.99691836,\n",
       "        1.        ]])"
      ]
     },
     "execution_count": 15,
     "metadata": {},
     "output_type": "execute_result"
    }
   ],
   "source": [
    "X_train"
   ]
  },
  {
   "cell_type": "code",
   "execution_count": 16,
   "metadata": {},
   "outputs": [],
   "source": [
    "y_train = y_train.reshape(1166,1)"
   ]
  },
  {
   "cell_type": "code",
   "execution_count": 14,
   "metadata": {},
   "outputs": [],
   "source": [
    "# Creating a data structure with 60 timesteps and 1 output\n",
    "#rolling time period og 60 days,you get len(train_set) - 60 as shape\n",
    "X_train = []\n",
    "y_train = []\n",
    "\n",
    "for i in range(60, 1226):\n",
    "    X_train.append(scaled_data[i - 60 : i, 0])\n",
    "    y_train.append(scaled_data[i, 0])\n",
    "\n",
    "X_train, y_train = np.array(X_train), np.array(y_train)"
   ]
  },
  {
   "cell_type": "code",
   "execution_count": 17,
   "metadata": {},
   "outputs": [
    {
     "data": {
      "text/plain": [
       "(1166, 60)"
      ]
     },
     "execution_count": 17,
     "metadata": {},
     "output_type": "execute_result"
    }
   ],
   "source": [
    "X_train.shape"
   ]
  },
  {
   "cell_type": "code",
   "execution_count": 18,
   "metadata": {},
   "outputs": [
    {
     "name": "stdout",
     "output_type": "stream",
     "text": [
      "(1166, 60, 1)\n"
     ]
    }
   ],
   "source": [
    "# Reshaping the data - used to add a new dimension to the data\n",
    "\n",
    "'''Input shape for rnn: 3D tensor with shape (number of rows of data, timesteps, input_dim)'''\n",
    "\n",
    "batch_size = X_train.shape[0]\n",
    "timesteps = 60\n",
    "no_of_predictors = 1 # input_dim\n",
    "X_train = np.reshape(X_train, (batch_size, timesteps, no_of_predictors))\n",
    "print(X_train.shape)\n"
   ]
  },
  {
   "cell_type": "code",
   "execution_count": 19,
   "metadata": {},
   "outputs": [
    {
     "name": "stderr",
     "output_type": "stream",
     "text": [
      "Using TensorFlow backend.\n"
     ]
    }
   ],
   "source": [
    "# Importing the Keras libraries\n",
    "from keras.models import Sequential\n",
    "from keras.layers import Dense, LSTM, Dropout"
   ]
  },
  {
   "cell_type": "code",
   "execution_count": 37,
   "metadata": {},
   "outputs": [],
   "source": [
    "# Building our regressor\n",
    "regressor = Sequential()\n",
    "\n",
    "# Adding the first LSTM layer and a dropout regularisation layer\n",
    "regressor.add(LSTM(units = 60, \n",
    "                  return_sequences = True,input_shape=(X_train.shape[1],1)))\n",
    "\n",
    "# Dropout regularisation \n",
    "regressor.add(Dropout(rate = 0.2)) # 20% dropout"
   ]
  },
  {
   "cell_type": "code",
   "execution_count": null,
   "metadata": {},
   "outputs": [],
   "source": []
  },
  {
   "cell_type": "code",
   "execution_count": 38,
   "metadata": {},
   "outputs": [],
   "source": [
    "# Adding the second LSTM layer and a dropout regularisation \n",
    "regressor.add(LSTM(units = 30, return_sequences = True))\n",
    "regressor.add(Dropout(rate = 0.2))\n"
   ]
  },
  {
   "cell_type": "code",
   "execution_count": 39,
   "metadata": {},
   "outputs": [],
   "source": [
    "\n",
    "# Adding the third LSTM layer and dropout regularisation \n",
    "regressor.add(LSTM(units = 15, return_sequences = True))\n",
    "regressor.add(Dropout(rate = 0.2))"
   ]
  },
  {
   "cell_type": "code",
   "execution_count": 40,
   "metadata": {},
   "outputs": [],
   "source": [
    "# Adding the fourth LSTM layer and dropout regularisation \n",
    "regressor.add(LSTM(units = 8, return_sequences = False))\n",
    "regressor.add(Dropout(rate = 0.2))\n"
   ]
  },
  {
   "cell_type": "code",
   "execution_count": 41,
   "metadata": {},
   "outputs": [],
   "source": [
    "regressor.add(Dense(units = 1))"
   ]
  },
  {
   "cell_type": "code",
   "execution_count": 42,
   "metadata": {},
   "outputs": [],
   "source": [
    "regressor.compile(optimizer = 'adam', loss = 'mean_squared_error')"
   ]
  },
  {
   "cell_type": "code",
   "execution_count": null,
   "metadata": {},
   "outputs": [
    {
     "name": "stdout",
     "output_type": "stream",
     "text": [
      "Epoch 1/100\n"
     ]
    }
   ],
   "source": [
    "# Fitting the RNN to the Training Set\n",
    "regressor.fit(X_train, y_train, epochs = 100, batch_size = 32)"
   ]
  },
  {
   "cell_type": "code",
   "execution_count": 207,
   "metadata": {},
   "outputs": [],
   "source": [
    "test_data.reset_index(inplace = True)"
   ]
  },
  {
   "cell_type": "code",
   "execution_count": 210,
   "metadata": {},
   "outputs": [
    {
     "data": {
      "text/plain": [
       "pandas.core.series.Series"
      ]
     },
     "execution_count": 210,
     "metadata": {},
     "output_type": "execute_result"
    }
   ],
   "source": [
    "type(total_data)"
   ]
  },
  {
   "cell_type": "code",
   "execution_count": 122,
   "metadata": {},
   "outputs": [],
   "source": [
    "test_set= test_data.iloc[:,4].values"
   ]
  },
  {
   "cell_type": "code",
   "execution_count": null,
   "metadata": {},
   "outputs": [],
   "source": []
  },
  {
   "cell_type": "code",
   "execution_count": 192,
   "metadata": {},
   "outputs": [],
   "source": [
    "total_data = pd.concat([train_data['Open'],test_data['Open']], axis = 0)"
   ]
  },
  {
   "cell_type": "code",
   "execution_count": 169,
   "metadata": {},
   "outputs": [],
   "source": []
  },
  {
   "cell_type": "code",
   "execution_count": 197,
   "metadata": {},
   "outputs": [],
   "source": [
    "# Scaling the input data\n",
    "inputs = np.array(total_data[len(total_data)-len(test_data)-60:])\n",
    "inputs = inputs.reshape(-1,1)\n",
    "inputs = scaler.transform(inputs)\n"
   ]
  },
  {
   "cell_type": "code",
   "execution_count": 198,
   "metadata": {},
   "outputs": [
    {
     "name": "stdout",
     "output_type": "stream",
     "text": [
      "[[[0.86499078]\n",
      "  [0.86557476]\n",
      "  [0.86306483]\n",
      "  ...\n",
      "  [0.99691836]\n",
      "  [1.        ]\n",
      "  [0.99325258]]\n",
      "\n",
      " [[0.86557476]\n",
      "  [0.86306483]\n",
      "  [0.85234113]\n",
      "  ...\n",
      "  [1.        ]\n",
      "  [0.99325258]\n",
      "  [0.98655506]]\n",
      "\n",
      " [[0.86306483]\n",
      "  [0.85234113]\n",
      "  [0.82038117]\n",
      "  ...\n",
      "  [0.99325258]\n",
      "  [0.98655506]\n",
      "  [0.98881654]]\n",
      "\n",
      " ...\n",
      "\n",
      " [[1.3303469 ]\n",
      "  [1.34917242]\n",
      "  [1.38651281]\n",
      "  ...\n",
      "  [1.52602011]\n",
      "  [1.55279834]\n",
      "  [1.52813263]]\n",
      "\n",
      " [[1.34917242]\n",
      "  [1.38651281]\n",
      "  [1.38645061]\n",
      "  ...\n",
      "  [1.55279834]\n",
      "  [1.52813263]\n",
      "  [1.54550424]]\n",
      "\n",
      " [[1.38651281]\n",
      "  [1.38645061]\n",
      "  [1.35405593]\n",
      "  ...\n",
      "  [1.52813263]\n",
      "  [1.54550424]\n",
      "  [1.64910034]]]\n"
     ]
    }
   ],
   "source": [
    "X_test = []\n",
    "for i in range(60, 359): \n",
    "    X_test.append(inputs[i - 60 : i, 0])\n",
    "X_test = np.array(X_test)\n",
    "X_test = np.reshape(X_test, (X_test.shape[0], X_test.shape[1], 1))\n",
    "print(X_test)"
   ]
  },
  {
   "cell_type": "code",
   "execution_count": 199,
   "metadata": {},
   "outputs": [],
   "source": [
    "# Making predictions\n",
    "predicted_stock_price = regressor.predict(X_test)\n",
    "predicted_stock_price = scaler.inverse_transform(predicted_stock_price)\n",
    "#predicted_stock_price"
   ]
  },
  {
   "cell_type": "code",
   "execution_count": 200,
   "metadata": {},
   "outputs": [
    {
     "data": {
      "text/plain": [
       "299"
      ]
     },
     "execution_count": 200,
     "metadata": {},
     "output_type": "execute_result"
    }
   ],
   "source": [
    "len(predicted_stock_price)"
   ]
  },
  {
   "cell_type": "code",
   "execution_count": 201,
   "metadata": {},
   "outputs": [
    {
     "data": {
      "text/plain": [
       "299"
      ]
     },
     "execution_count": 201,
     "metadata": {},
     "output_type": "execute_result"
    }
   ],
   "source": [
    "len(test_data)"
   ]
  },
  {
   "cell_type": "code",
   "execution_count": 209,
   "metadata": {},
   "outputs": [
    {
     "name": "stdout",
     "output_type": "stream",
     "text": [
      "Mean Absolute Error: 50.71900434717287\n",
      "Mean Suared Error: 4182.41150067647\n"
     ]
    }
   ],
   "source": [
    "from sklearn.metrics import mean_squared_error, mean_absolute_error\n",
    "\n",
    "mae_acc = mean_absolute_error(y_true = real_stock_price, y_pred = predicted_stock_price)\n",
    "mse_acc = mean_squared_error(y_true = real_stock_price, y_pred = predicted_stock_price)\n",
    "print(\"Mean Absolute Error: {}\".format(mae_acc))\n",
    "print(\"Mean Suared Error: {}\".format(mse_acc))"
   ]
  },
  {
   "cell_type": "code",
   "execution_count": 204,
   "metadata": {},
   "outputs": [],
   "source": [
    "real_stock_price = test_data['Open']"
   ]
  },
  {
   "cell_type": "code",
   "execution_count": 211,
   "metadata": {},
   "outputs": [
    {
     "data": {
      "image/png": "[encoded data removed]",
      "text/plain": [
       "<Figure size 432x288 with 1 Axes>"
      ]
     },
     "metadata": {
      "needs_background": "light"
     },
     "output_type": "display_data"
    }
   ],
   "source": [
    "plt.plot(predicted_stock_price, color = 'r', label = 'Predicted Google Stock Price')\n",
    "plt.plot(real_stock_price, color = 'g', label = 'Real Google Stock Price')\n",
    "\n",
    "plt.title('Google Stock Price Predictions')\n",
    "\n",
    "plt.xlabel('Time')\n",
    "plt.ylabel('Open Google Stock Price')\n",
    "plt.legend()\n",
    "plt.show()\n"
   ]
  }
 ],
 "metadata": {
  "kernelspec": {
   "display_name": "Python 3",
   "language": "python",
   "name": "python3"
  },
  "language_info": {
   "codemirror_mode": {
    "name": "ipython",
    "version": 3
   },
   "file_extension": ".py",
   "mimetype": "text/x-python",
   "name": "python",
   "nbconvert_exporter": "python",
   "pygments_lexer": "ipython3",
   "version": "3.7.6"
  }
 },
 "nbformat": 4,
 "nbformat_minor": 4
}
